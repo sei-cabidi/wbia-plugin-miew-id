{
 "cells": [
  {
   "cell_type": "code",
   "execution_count": 7,
   "metadata": {},
   "outputs": [],
   "source": [
    "import typing as tp\n",
    "import pandas as pd\n",
    "import numpy as np\n",
    "import argparse\n",
    "import os\n",
    "\n",
    "from wbia_miew_id.helpers import get_config\n",
    "from scripts.custom_utils import load_miewid_data\n",
    "from pathlib import Path\n",
    "from tqdm import tqdm\n",
    "\n",
    "from scripts.GradCamPlusPlusVisualizer import GradCamPlusPlusVisualizer\n",
    "from scripts.LightGlueVisualizer import LightGlueVisualizer\n",
    "from scripts.visualizer import Visualizer"
   ]
  },
  {
   "cell_type": "code",
   "execution_count": 16,
   "metadata": {},
   "outputs": [],
   "source": [
    "def pipeline(\n",
    "        visualizer: Visualizer,\n",
    "        images: tp.List[np.ndarray],\n",
    "        topk_idx: np.ndarray,\n",
    "        match_mat: np.ndarray,\n",
    "        dist_mat: np.ndarray,\n",
    "        stop_after: int\n",
    "        ):\n",
    "    # Iterate through instance-match-indicator tuples\n",
    "    idx_to_match_idxs = {\n",
    "        idx:{\n",
    "            \"topk_indices\":     topk_idx[idx].tolist(),\n",
    "            \"match_indicators\": match_mat[idx].tolist()\n",
    "            }\n",
    "        for idx in range(len(images))\n",
    "    }\n",
    "    results = []\n",
    "    for i, (query_idx, vals) in enumerate(tqdm(idx_to_match_idxs.items())):\n",
    "        if i >= stop_after:\n",
    "            break\n",
    "        \n",
    "        image_query = images[query_idx]\n",
    "\n",
    "        # Extract top-k indices of matches and whether they were true matches\n",
    "        topk_indices = vals[\"topk_indices\"]\n",
    "        match_indicators = vals[\"match_indicators\"]\n",
    "\n",
    "        # Iterate through top-k matches\n",
    "        for rank, (match_idx, is_match) in enumerate(tqdm(zip(topk_indices, match_indicators))):\n",
    "            image_match = images[match_idx]\n",
    "            \n",
    "            #print(f\"Vizualizing query {query_idx} and match {match_idx}\")\n",
    "\n",
    "            # Generate results from the visualization method\n",
    "            result = visualizer.generate(\n",
    "                image_query,\n",
    "                image_match,\n",
    "                is_match=is_match,\n",
    "                topk_indices=topk_indices,\n",
    "                query_idx=query_idx,\n",
    "                match_idx=match_idx\n",
    "            )\n",
    "\n",
    "            score = dist_mat[query_idx, match_idx]\n",
    "\n",
    "            # Store computed results\n",
    "            data = {\n",
    "                \"query_idx\":    query_idx,\n",
    "                \"match_idx\":    match_idx,\n",
    "                \"score\":        score,\n",
    "                \"rank\":         rank,\n",
    "                \"is_match\":     is_match,\n",
    "                **result\n",
    "            }\n",
    "            \n",
    "            results.append(data)\n",
    "            \n",
    "    return results\n"
   ]
  },
  {
   "cell_type": "code",
   "execution_count": 17,
   "metadata": {},
   "outputs": [
    {
     "name": "stdout",
     "output_type": "stream",
     "text": [
      "Loading config from path: wbia_miew_id/examples/beluga_example_miewid/benchmark_model/miew_id.msv2_all.yaml\n"
     ]
    },
    {
     "name": "stderr",
     "output_type": "stream",
     "text": [
      "  0%|          | 0/849 [00:00<?, ?it/s]"
     ]
    },
    {
     "name": "stderr",
     "output_type": "stream",
     "text": [
      "100%|██████████| 849/849 [00:06<00:00, 129.90it/s]\n"
     ]
    },
    {
     "name": "stdout",
     "output_type": "stream",
     "text": [
      "Loaded images: torch.Size([849, 3, 440, 440])\n"
     ]
    },
    {
     "name": "stderr",
     "output_type": "stream",
     "text": [
      "20it [00:03,  6.15it/s][00:00<?, ?it/s]\n",
      "  0%|          | 1/849 [00:03<45:59,  3.25s/it]\n"
     ]
    },
    {
     "name": "stdout",
     "output_type": "stream",
     "text": [
      "Building Model Backbone for efficientnetv2_rw_m model\n",
      "['backbone.conv_stem.weight', 'backbone.bn1.weight', 'backbone.bn1.bias', 'backbone.bn1.running_mean', 'backbone.bn1.running_var', 'backbone.bn1.num_batches_tracked', 'backbone.blocks.0.0.conv_exp.weight', 'backbone.blocks.0.0.bn1.weight', 'backbone.blocks.0.0.bn1.bias', 'backbone.blocks.0.0.bn1.running_mean', 'backbone.blocks.0.0.bn1.running_var', 'backbone.blocks.0.0.bn1.num_batches_tracked', 'backbone.blocks.0.0.conv_pwl.weight', 'backbone.blocks.0.0.bn2.weight', 'backbone.blocks.0.0.bn2.bias', 'backbone.blocks.0.0.bn2.running_mean', 'backbone.blocks.0.0.bn2.running_var', 'backbone.blocks.0.0.bn2.num_batches_tracked', 'backbone.blocks.0.1.conv_exp.weight', 'backbone.blocks.0.1.bn1.weight', 'backbone.blocks.0.1.bn1.bias', 'backbone.blocks.0.1.bn1.running_mean', 'backbone.blocks.0.1.bn1.running_var', 'backbone.blocks.0.1.bn1.num_batches_tracked', 'backbone.blocks.0.1.conv_pwl.weight', 'backbone.blocks.0.1.bn2.weight', 'backbone.blocks.0.1.bn2.bias', 'backbone.blocks.0.1.bn2.running_mean', 'backbone.blocks.0.1.bn2.running_var', 'backbone.blocks.0.1.bn2.num_batches_tracked', 'backbone.blocks.0.2.conv_exp.weight', 'backbone.blocks.0.2.bn1.weight', 'backbone.blocks.0.2.bn1.bias', 'backbone.blocks.0.2.bn1.running_mean', 'backbone.blocks.0.2.bn1.running_var', 'backbone.blocks.0.2.bn1.num_batches_tracked', 'backbone.blocks.0.2.conv_pwl.weight', 'backbone.blocks.0.2.bn2.weight', 'backbone.blocks.0.2.bn2.bias', 'backbone.blocks.0.2.bn2.running_mean', 'backbone.blocks.0.2.bn2.running_var', 'backbone.blocks.0.2.bn2.num_batches_tracked', 'backbone.blocks.1.0.conv_exp.weight', 'backbone.blocks.1.0.bn1.weight', 'backbone.blocks.1.0.bn1.bias', 'backbone.blocks.1.0.bn1.running_mean', 'backbone.blocks.1.0.bn1.running_var', 'backbone.blocks.1.0.bn1.num_batches_tracked', 'backbone.blocks.1.0.conv_pwl.weight', 'backbone.blocks.1.0.bn2.weight', 'backbone.blocks.1.0.bn2.bias', 'backbone.blocks.1.0.bn2.running_mean', 'backbone.blocks.1.0.bn2.running_var', 'backbone.blocks.1.0.bn2.num_batches_tracked', 'backbone.blocks.1.1.conv_exp.weight', 'backbone.blocks.1.1.bn1.weight', 'backbone.blocks.1.1.bn1.bias', 'backbone.blocks.1.1.bn1.running_mean', 'backbone.blocks.1.1.bn1.running_var', 'backbone.blocks.1.1.bn1.num_batches_tracked', 'backbone.blocks.1.1.conv_pwl.weight', 'backbone.blocks.1.1.bn2.weight', 'backbone.blocks.1.1.bn2.bias', 'backbone.blocks.1.1.bn2.running_mean', 'backbone.blocks.1.1.bn2.running_var', 'backbone.blocks.1.1.bn2.num_batches_tracked', 'backbone.blocks.1.2.conv_exp.weight', 'backbone.blocks.1.2.bn1.weight', 'backbone.blocks.1.2.bn1.bias', 'backbone.blocks.1.2.bn1.running_mean', 'backbone.blocks.1.2.bn1.running_var', 'backbone.blocks.1.2.bn1.num_batches_tracked', 'backbone.blocks.1.2.conv_pwl.weight', 'backbone.blocks.1.2.bn2.weight', 'backbone.blocks.1.2.bn2.bias', 'backbone.blocks.1.2.bn2.running_mean', 'backbone.blocks.1.2.bn2.running_var', 'backbone.blocks.1.2.bn2.num_batches_tracked', 'backbone.blocks.1.3.conv_exp.weight', 'backbone.blocks.1.3.bn1.weight', 'backbone.blocks.1.3.bn1.bias', 'backbone.blocks.1.3.bn1.running_mean', 'backbone.blocks.1.3.bn1.running_var', 'backbone.blocks.1.3.bn1.num_batches_tracked', 'backbone.blocks.1.3.conv_pwl.weight', 'backbone.blocks.1.3.bn2.weight', 'backbone.blocks.1.3.bn2.bias', 'backbone.blocks.1.3.bn2.running_mean', 'backbone.blocks.1.3.bn2.running_var', 'backbone.blocks.1.3.bn2.num_batches_tracked', 'backbone.blocks.1.4.conv_exp.weight', 'backbone.blocks.1.4.bn1.weight', 'backbone.blocks.1.4.bn1.bias', 'backbone.blocks.1.4.bn1.running_mean', 'backbone.blocks.1.4.bn1.running_var', 'backbone.blocks.1.4.bn1.num_batches_tracked', 'backbone.blocks.1.4.conv_pwl.weight', 'backbone.blocks.1.4.bn2.weight', 'backbone.blocks.1.4.bn2.bias', 'backbone.blocks.1.4.bn2.running_mean', 'backbone.blocks.1.4.bn2.running_var', 'backbone.blocks.1.4.bn2.num_batches_tracked', 'backbone.blocks.2.0.conv_exp.weight', 'backbone.blocks.2.0.bn1.weight', 'backbone.blocks.2.0.bn1.bias', 'backbone.blocks.2.0.bn1.running_mean', 'backbone.blocks.2.0.bn1.running_var', 'backbone.blocks.2.0.bn1.num_batches_tracked', 'backbone.blocks.2.0.conv_pwl.weight', 'backbone.blocks.2.0.bn2.weight', 'backbone.blocks.2.0.bn2.bias', 'backbone.blocks.2.0.bn2.running_mean', 'backbone.blocks.2.0.bn2.running_var', 'backbone.blocks.2.0.bn2.num_batches_tracked', 'backbone.blocks.2.1.conv_exp.weight', 'backbone.blocks.2.1.bn1.weight', 'backbone.blocks.2.1.bn1.bias', 'backbone.blocks.2.1.bn1.running_mean', 'backbone.blocks.2.1.bn1.running_var', 'backbone.blocks.2.1.bn1.num_batches_tracked', 'backbone.blocks.2.1.conv_pwl.weight', 'backbone.blocks.2.1.bn2.weight', 'backbone.blocks.2.1.bn2.bias', 'backbone.blocks.2.1.bn2.running_mean', 'backbone.blocks.2.1.bn2.running_var', 'backbone.blocks.2.1.bn2.num_batches_tracked', 'backbone.blocks.2.2.conv_exp.weight', 'backbone.blocks.2.2.bn1.weight', 'backbone.blocks.2.2.bn1.bias', 'backbone.blocks.2.2.bn1.running_mean', 'backbone.blocks.2.2.bn1.running_var', 'backbone.blocks.2.2.bn1.num_batches_tracked', 'backbone.blocks.2.2.conv_pwl.weight', 'backbone.blocks.2.2.bn2.weight', 'backbone.blocks.2.2.bn2.bias', 'backbone.blocks.2.2.bn2.running_mean', 'backbone.blocks.2.2.bn2.running_var', 'backbone.blocks.2.2.bn2.num_batches_tracked', 'backbone.blocks.2.3.conv_exp.weight', 'backbone.blocks.2.3.bn1.weight', 'backbone.blocks.2.3.bn1.bias', 'backbone.blocks.2.3.bn1.running_mean', 'backbone.blocks.2.3.bn1.running_var', 'backbone.blocks.2.3.bn1.num_batches_tracked', 'backbone.blocks.2.3.conv_pwl.weight', 'backbone.blocks.2.3.bn2.weight', 'backbone.blocks.2.3.bn2.bias', 'backbone.blocks.2.3.bn2.running_mean', 'backbone.blocks.2.3.bn2.running_var', 'backbone.blocks.2.3.bn2.num_batches_tracked', 'backbone.blocks.2.4.conv_exp.weight', 'backbone.blocks.2.4.bn1.weight', 'backbone.blocks.2.4.bn1.bias', 'backbone.blocks.2.4.bn1.running_mean', 'backbone.blocks.2.4.bn1.running_var', 'backbone.blocks.2.4.bn1.num_batches_tracked', 'backbone.blocks.2.4.conv_pwl.weight', 'backbone.blocks.2.4.bn2.weight', 'backbone.blocks.2.4.bn2.bias', 'backbone.blocks.2.4.bn2.running_mean', 'backbone.blocks.2.4.bn2.running_var', 'backbone.blocks.2.4.bn2.num_batches_tracked', 'backbone.blocks.3.0.conv_pw.weight', 'backbone.blocks.3.0.bn1.weight', 'backbone.blocks.3.0.bn1.bias', 'backbone.blocks.3.0.bn1.running_mean', 'backbone.blocks.3.0.bn1.running_var', 'backbone.blocks.3.0.bn1.num_batches_tracked', 'backbone.blocks.3.0.conv_dw.weight', 'backbone.blocks.3.0.bn2.weight', 'backbone.blocks.3.0.bn2.bias', 'backbone.blocks.3.0.bn2.running_mean', 'backbone.blocks.3.0.bn2.running_var', 'backbone.blocks.3.0.bn2.num_batches_tracked', 'backbone.blocks.3.0.se.conv_reduce.weight', 'backbone.blocks.3.0.se.conv_reduce.bias', 'backbone.blocks.3.0.se.conv_expand.weight', 'backbone.blocks.3.0.se.conv_expand.bias', 'backbone.blocks.3.0.conv_pwl.weight', 'backbone.blocks.3.0.bn3.weight', 'backbone.blocks.3.0.bn3.bias', 'backbone.blocks.3.0.bn3.running_mean', 'backbone.blocks.3.0.bn3.running_var', 'backbone.blocks.3.0.bn3.num_batches_tracked', 'backbone.blocks.3.1.conv_pw.weight', 'backbone.blocks.3.1.bn1.weight', 'backbone.blocks.3.1.bn1.bias', 'backbone.blocks.3.1.bn1.running_mean', 'backbone.blocks.3.1.bn1.running_var', 'backbone.blocks.3.1.bn1.num_batches_tracked', 'backbone.blocks.3.1.conv_dw.weight', 'backbone.blocks.3.1.bn2.weight', 'backbone.blocks.3.1.bn2.bias', 'backbone.blocks.3.1.bn2.running_mean', 'backbone.blocks.3.1.bn2.running_var', 'backbone.blocks.3.1.bn2.num_batches_tracked', 'backbone.blocks.3.1.se.conv_reduce.weight', 'backbone.blocks.3.1.se.conv_reduce.bias', 'backbone.blocks.3.1.se.conv_expand.weight', 'backbone.blocks.3.1.se.conv_expand.bias', 'backbone.blocks.3.1.conv_pwl.weight', 'backbone.blocks.3.1.bn3.weight', 'backbone.blocks.3.1.bn3.bias', 'backbone.blocks.3.1.bn3.running_mean', 'backbone.blocks.3.1.bn3.running_var', 'backbone.blocks.3.1.bn3.num_batches_tracked', 'backbone.blocks.3.2.conv_pw.weight', 'backbone.blocks.3.2.bn1.weight', 'backbone.blocks.3.2.bn1.bias', 'backbone.blocks.3.2.bn1.running_mean', 'backbone.blocks.3.2.bn1.running_var', 'backbone.blocks.3.2.bn1.num_batches_tracked', 'backbone.blocks.3.2.conv_dw.weight', 'backbone.blocks.3.2.bn2.weight', 'backbone.blocks.3.2.bn2.bias', 'backbone.blocks.3.2.bn2.running_mean', 'backbone.blocks.3.2.bn2.running_var', 'backbone.blocks.3.2.bn2.num_batches_tracked', 'backbone.blocks.3.2.se.conv_reduce.weight', 'backbone.blocks.3.2.se.conv_reduce.bias', 'backbone.blocks.3.2.se.conv_expand.weight', 'backbone.blocks.3.2.se.conv_expand.bias', 'backbone.blocks.3.2.conv_pwl.weight', 'backbone.blocks.3.2.bn3.weight', 'backbone.blocks.3.2.bn3.bias', 'backbone.blocks.3.2.bn3.running_mean', 'backbone.blocks.3.2.bn3.running_var', 'backbone.blocks.3.2.bn3.num_batches_tracked', 'backbone.blocks.3.3.conv_pw.weight', 'backbone.blocks.3.3.bn1.weight', 'backbone.blocks.3.3.bn1.bias', 'backbone.blocks.3.3.bn1.running_mean', 'backbone.blocks.3.3.bn1.running_var', 'backbone.blocks.3.3.bn1.num_batches_tracked', 'backbone.blocks.3.3.conv_dw.weight', 'backbone.blocks.3.3.bn2.weight', 'backbone.blocks.3.3.bn2.bias', 'backbone.blocks.3.3.bn2.running_mean', 'backbone.blocks.3.3.bn2.running_var', 'backbone.blocks.3.3.bn2.num_batches_tracked', 'backbone.blocks.3.3.se.conv_reduce.weight', 'backbone.blocks.3.3.se.conv_reduce.bias', 'backbone.blocks.3.3.se.conv_expand.weight', 'backbone.blocks.3.3.se.conv_expand.bias', 'backbone.blocks.3.3.conv_pwl.weight', 'backbone.blocks.3.3.bn3.weight', 'backbone.blocks.3.3.bn3.bias', 'backbone.blocks.3.3.bn3.running_mean', 'backbone.blocks.3.3.bn3.running_var', 'backbone.blocks.3.3.bn3.num_batches_tracked', 'backbone.blocks.3.4.conv_pw.weight', 'backbone.blocks.3.4.bn1.weight', 'backbone.blocks.3.4.bn1.bias', 'backbone.blocks.3.4.bn1.running_mean', 'backbone.blocks.3.4.bn1.running_var', 'backbone.blocks.3.4.bn1.num_batches_tracked', 'backbone.blocks.3.4.conv_dw.weight', 'backbone.blocks.3.4.bn2.weight', 'backbone.blocks.3.4.bn2.bias', 'backbone.blocks.3.4.bn2.running_mean', 'backbone.blocks.3.4.bn2.running_var', 'backbone.blocks.3.4.bn2.num_batches_tracked', 'backbone.blocks.3.4.se.conv_reduce.weight', 'backbone.blocks.3.4.se.conv_reduce.bias', 'backbone.blocks.3.4.se.conv_expand.weight', 'backbone.blocks.3.4.se.conv_expand.bias', 'backbone.blocks.3.4.conv_pwl.weight', 'backbone.blocks.3.4.bn3.weight', 'backbone.blocks.3.4.bn3.bias', 'backbone.blocks.3.4.bn3.running_mean', 'backbone.blocks.3.4.bn3.running_var', 'backbone.blocks.3.4.bn3.num_batches_tracked', 'backbone.blocks.3.5.conv_pw.weight', 'backbone.blocks.3.5.bn1.weight', 'backbone.blocks.3.5.bn1.bias', 'backbone.blocks.3.5.bn1.running_mean', 'backbone.blocks.3.5.bn1.running_var', 'backbone.blocks.3.5.bn1.num_batches_tracked', 'backbone.blocks.3.5.conv_dw.weight', 'backbone.blocks.3.5.bn2.weight', 'backbone.blocks.3.5.bn2.bias', 'backbone.blocks.3.5.bn2.running_mean', 'backbone.blocks.3.5.bn2.running_var', 'backbone.blocks.3.5.bn2.num_batches_tracked', 'backbone.blocks.3.5.se.conv_reduce.weight', 'backbone.blocks.3.5.se.conv_reduce.bias', 'backbone.blocks.3.5.se.conv_expand.weight', 'backbone.blocks.3.5.se.conv_expand.bias', 'backbone.blocks.3.5.conv_pwl.weight', 'backbone.blocks.3.5.bn3.weight', 'backbone.blocks.3.5.bn3.bias', 'backbone.blocks.3.5.bn3.running_mean', 'backbone.blocks.3.5.bn3.running_var', 'backbone.blocks.3.5.bn3.num_batches_tracked', 'backbone.blocks.3.6.conv_pw.weight', 'backbone.blocks.3.6.bn1.weight', 'backbone.blocks.3.6.bn1.bias', 'backbone.blocks.3.6.bn1.running_mean', 'backbone.blocks.3.6.bn1.running_var', 'backbone.blocks.3.6.bn1.num_batches_tracked', 'backbone.blocks.3.6.conv_dw.weight', 'backbone.blocks.3.6.bn2.weight', 'backbone.blocks.3.6.bn2.bias', 'backbone.blocks.3.6.bn2.running_mean', 'backbone.blocks.3.6.bn2.running_var', 'backbone.blocks.3.6.bn2.num_batches_tracked', 'backbone.blocks.3.6.se.conv_reduce.weight', 'backbone.blocks.3.6.se.conv_reduce.bias', 'backbone.blocks.3.6.se.conv_expand.weight', 'backbone.blocks.3.6.se.conv_expand.bias', 'backbone.blocks.3.6.conv_pwl.weight', 'backbone.blocks.3.6.bn3.weight', 'backbone.blocks.3.6.bn3.bias', 'backbone.blocks.3.6.bn3.running_mean', 'backbone.blocks.3.6.bn3.running_var', 'backbone.blocks.3.6.bn3.num_batches_tracked', 'backbone.blocks.3.7.conv_pw.weight', 'backbone.blocks.3.7.bn1.weight', 'backbone.blocks.3.7.bn1.bias', 'backbone.blocks.3.7.bn1.running_mean', 'backbone.blocks.3.7.bn1.running_var', 'backbone.blocks.3.7.bn1.num_batches_tracked', 'backbone.blocks.3.7.conv_dw.weight', 'backbone.blocks.3.7.bn2.weight', 'backbone.blocks.3.7.bn2.bias', 'backbone.blocks.3.7.bn2.running_mean', 'backbone.blocks.3.7.bn2.running_var', 'backbone.blocks.3.7.bn2.num_batches_tracked', 'backbone.blocks.3.7.se.conv_reduce.weight', 'backbone.blocks.3.7.se.conv_reduce.bias', 'backbone.blocks.3.7.se.conv_expand.weight', 'backbone.blocks.3.7.se.conv_expand.bias', 'backbone.blocks.3.7.conv_pwl.weight', 'backbone.blocks.3.7.bn3.weight', 'backbone.blocks.3.7.bn3.bias', 'backbone.blocks.3.7.bn3.running_mean', 'backbone.blocks.3.7.bn3.running_var', 'backbone.blocks.3.7.bn3.num_batches_tracked', 'backbone.blocks.4.0.conv_pw.weight', 'backbone.blocks.4.0.bn1.weight', 'backbone.blocks.4.0.bn1.bias', 'backbone.blocks.4.0.bn1.running_mean', 'backbone.blocks.4.0.bn1.running_var', 'backbone.blocks.4.0.bn1.num_batches_tracked', 'backbone.blocks.4.0.conv_dw.weight', 'backbone.blocks.4.0.bn2.weight', 'backbone.blocks.4.0.bn2.bias', 'backbone.blocks.4.0.bn2.running_mean', 'backbone.blocks.4.0.bn2.running_var', 'backbone.blocks.4.0.bn2.num_batches_tracked', 'backbone.blocks.4.0.se.conv_reduce.weight', 'backbone.blocks.4.0.se.conv_reduce.bias', 'backbone.blocks.4.0.se.conv_expand.weight', 'backbone.blocks.4.0.se.conv_expand.bias', 'backbone.blocks.4.0.conv_pwl.weight', 'backbone.blocks.4.0.bn3.weight', 'backbone.blocks.4.0.bn3.bias', 'backbone.blocks.4.0.bn3.running_mean', 'backbone.blocks.4.0.bn3.running_var', 'backbone.blocks.4.0.bn3.num_batches_tracked', 'backbone.blocks.4.1.conv_pw.weight', 'backbone.blocks.4.1.bn1.weight', 'backbone.blocks.4.1.bn1.bias', 'backbone.blocks.4.1.bn1.running_mean', 'backbone.blocks.4.1.bn1.running_var', 'backbone.blocks.4.1.bn1.num_batches_tracked', 'backbone.blocks.4.1.conv_dw.weight', 'backbone.blocks.4.1.bn2.weight', 'backbone.blocks.4.1.bn2.bias', 'backbone.blocks.4.1.bn2.running_mean', 'backbone.blocks.4.1.bn2.running_var', 'backbone.blocks.4.1.bn2.num_batches_tracked', 'backbone.blocks.4.1.se.conv_reduce.weight', 'backbone.blocks.4.1.se.conv_reduce.bias', 'backbone.blocks.4.1.se.conv_expand.weight', 'backbone.blocks.4.1.se.conv_expand.bias', 'backbone.blocks.4.1.conv_pwl.weight', 'backbone.blocks.4.1.bn3.weight', 'backbone.blocks.4.1.bn3.bias', 'backbone.blocks.4.1.bn3.running_mean', 'backbone.blocks.4.1.bn3.running_var', 'backbone.blocks.4.1.bn3.num_batches_tracked', 'backbone.blocks.4.2.conv_pw.weight', 'backbone.blocks.4.2.bn1.weight', 'backbone.blocks.4.2.bn1.bias', 'backbone.blocks.4.2.bn1.running_mean', 'backbone.blocks.4.2.bn1.running_var', 'backbone.blocks.4.2.bn1.num_batches_tracked', 'backbone.blocks.4.2.conv_dw.weight', 'backbone.blocks.4.2.bn2.weight', 'backbone.blocks.4.2.bn2.bias', 'backbone.blocks.4.2.bn2.running_mean', 'backbone.blocks.4.2.bn2.running_var', 'backbone.blocks.4.2.bn2.num_batches_tracked', 'backbone.blocks.4.2.se.conv_reduce.weight', 'backbone.blocks.4.2.se.conv_reduce.bias', 'backbone.blocks.4.2.se.conv_expand.weight', 'backbone.blocks.4.2.se.conv_expand.bias', 'backbone.blocks.4.2.conv_pwl.weight', 'backbone.blocks.4.2.bn3.weight', 'backbone.blocks.4.2.bn3.bias', 'backbone.blocks.4.2.bn3.running_mean', 'backbone.blocks.4.2.bn3.running_var', 'backbone.blocks.4.2.bn3.num_batches_tracked', 'backbone.blocks.4.3.conv_pw.weight', 'backbone.blocks.4.3.bn1.weight', 'backbone.blocks.4.3.bn1.bias', 'backbone.blocks.4.3.bn1.running_mean', 'backbone.blocks.4.3.bn1.running_var', 'backbone.blocks.4.3.bn1.num_batches_tracked', 'backbone.blocks.4.3.conv_dw.weight', 'backbone.blocks.4.3.bn2.weight', 'backbone.blocks.4.3.bn2.bias', 'backbone.blocks.4.3.bn2.running_mean', 'backbone.blocks.4.3.bn2.running_var', 'backbone.blocks.4.3.bn2.num_batches_tracked', 'backbone.blocks.4.3.se.conv_reduce.weight', 'backbone.blocks.4.3.se.conv_reduce.bias', 'backbone.blocks.4.3.se.conv_expand.weight', 'backbone.blocks.4.3.se.conv_expand.bias', 'backbone.blocks.4.3.conv_pwl.weight', 'backbone.blocks.4.3.bn3.weight', 'backbone.blocks.4.3.bn3.bias', 'backbone.blocks.4.3.bn3.running_mean', 'backbone.blocks.4.3.bn3.running_var', 'backbone.blocks.4.3.bn3.num_batches_tracked', 'backbone.blocks.4.4.conv_pw.weight', 'backbone.blocks.4.4.bn1.weight', 'backbone.blocks.4.4.bn1.bias', 'backbone.blocks.4.4.bn1.running_mean', 'backbone.blocks.4.4.bn1.running_var', 'backbone.blocks.4.4.bn1.num_batches_tracked', 'backbone.blocks.4.4.conv_dw.weight', 'backbone.blocks.4.4.bn2.weight', 'backbone.blocks.4.4.bn2.bias', 'backbone.blocks.4.4.bn2.running_mean', 'backbone.blocks.4.4.bn2.running_var', 'backbone.blocks.4.4.bn2.num_batches_tracked', 'backbone.blocks.4.4.se.conv_reduce.weight', 'backbone.blocks.4.4.se.conv_reduce.bias', 'backbone.blocks.4.4.se.conv_expand.weight', 'backbone.blocks.4.4.se.conv_expand.bias', 'backbone.blocks.4.4.conv_pwl.weight', 'backbone.blocks.4.4.bn3.weight', 'backbone.blocks.4.4.bn3.bias', 'backbone.blocks.4.4.bn3.running_mean', 'backbone.blocks.4.4.bn3.running_var', 'backbone.blocks.4.4.bn3.num_batches_tracked', 'backbone.blocks.4.5.conv_pw.weight', 'backbone.blocks.4.5.bn1.weight', 'backbone.blocks.4.5.bn1.bias', 'backbone.blocks.4.5.bn1.running_mean', 'backbone.blocks.4.5.bn1.running_var', 'backbone.blocks.4.5.bn1.num_batches_tracked', 'backbone.blocks.4.5.conv_dw.weight', 'backbone.blocks.4.5.bn2.weight', 'backbone.blocks.4.5.bn2.bias', 'backbone.blocks.4.5.bn2.running_mean', 'backbone.blocks.4.5.bn2.running_var', 'backbone.blocks.4.5.bn2.num_batches_tracked', 'backbone.blocks.4.5.se.conv_reduce.weight', 'backbone.blocks.4.5.se.conv_reduce.bias', 'backbone.blocks.4.5.se.conv_expand.weight', 'backbone.blocks.4.5.se.conv_expand.bias', 'backbone.blocks.4.5.conv_pwl.weight', 'backbone.blocks.4.5.bn3.weight', 'backbone.blocks.4.5.bn3.bias', 'backbone.blocks.4.5.bn3.running_mean', 'backbone.blocks.4.5.bn3.running_var', 'backbone.blocks.4.5.bn3.num_batches_tracked', 'backbone.blocks.4.6.conv_pw.weight', 'backbone.blocks.4.6.bn1.weight', 'backbone.blocks.4.6.bn1.bias', 'backbone.blocks.4.6.bn1.running_mean', 'backbone.blocks.4.6.bn1.running_var', 'backbone.blocks.4.6.bn1.num_batches_tracked', 'backbone.blocks.4.6.conv_dw.weight', 'backbone.blocks.4.6.bn2.weight', 'backbone.blocks.4.6.bn2.bias', 'backbone.blocks.4.6.bn2.running_mean', 'backbone.blocks.4.6.bn2.running_var', 'backbone.blocks.4.6.bn2.num_batches_tracked', 'backbone.blocks.4.6.se.conv_reduce.weight', 'backbone.blocks.4.6.se.conv_reduce.bias', 'backbone.blocks.4.6.se.conv_expand.weight', 'backbone.blocks.4.6.se.conv_expand.bias', 'backbone.blocks.4.6.conv_pwl.weight', 'backbone.blocks.4.6.bn3.weight', 'backbone.blocks.4.6.bn3.bias', 'backbone.blocks.4.6.bn3.running_mean', 'backbone.blocks.4.6.bn3.running_var', 'backbone.blocks.4.6.bn3.num_batches_tracked', 'backbone.blocks.4.7.conv_pw.weight', 'backbone.blocks.4.7.bn1.weight', 'backbone.blocks.4.7.bn1.bias', 'backbone.blocks.4.7.bn1.running_mean', 'backbone.blocks.4.7.bn1.running_var', 'backbone.blocks.4.7.bn1.num_batches_tracked', 'backbone.blocks.4.7.conv_dw.weight', 'backbone.blocks.4.7.bn2.weight', 'backbone.blocks.4.7.bn2.bias', 'backbone.blocks.4.7.bn2.running_mean', 'backbone.blocks.4.7.bn2.running_var', 'backbone.blocks.4.7.bn2.num_batches_tracked', 'backbone.blocks.4.7.se.conv_reduce.weight', 'backbone.blocks.4.7.se.conv_reduce.bias', 'backbone.blocks.4.7.se.conv_expand.weight', 'backbone.blocks.4.7.se.conv_expand.bias', 'backbone.blocks.4.7.conv_pwl.weight', 'backbone.blocks.4.7.bn3.weight', 'backbone.blocks.4.7.bn3.bias', 'backbone.blocks.4.7.bn3.running_mean', 'backbone.blocks.4.7.bn3.running_var', 'backbone.blocks.4.7.bn3.num_batches_tracked', 'backbone.blocks.4.8.conv_pw.weight', 'backbone.blocks.4.8.bn1.weight', 'backbone.blocks.4.8.bn1.bias', 'backbone.blocks.4.8.bn1.running_mean', 'backbone.blocks.4.8.bn1.running_var', 'backbone.blocks.4.8.bn1.num_batches_tracked', 'backbone.blocks.4.8.conv_dw.weight', 'backbone.blocks.4.8.bn2.weight', 'backbone.blocks.4.8.bn2.bias', 'backbone.blocks.4.8.bn2.running_mean', 'backbone.blocks.4.8.bn2.running_var', 'backbone.blocks.4.8.bn2.num_batches_tracked', 'backbone.blocks.4.8.se.conv_reduce.weight', 'backbone.blocks.4.8.se.conv_reduce.bias', 'backbone.blocks.4.8.se.conv_expand.weight', 'backbone.blocks.4.8.se.conv_expand.bias', 'backbone.blocks.4.8.conv_pwl.weight', 'backbone.blocks.4.8.bn3.weight', 'backbone.blocks.4.8.bn3.bias', 'backbone.blocks.4.8.bn3.running_mean', 'backbone.blocks.4.8.bn3.running_var', 'backbone.blocks.4.8.bn3.num_batches_tracked', 'backbone.blocks.4.9.conv_pw.weight', 'backbone.blocks.4.9.bn1.weight', 'backbone.blocks.4.9.bn1.bias', 'backbone.blocks.4.9.bn1.running_mean', 'backbone.blocks.4.9.bn1.running_var', 'backbone.blocks.4.9.bn1.num_batches_tracked', 'backbone.blocks.4.9.conv_dw.weight', 'backbone.blocks.4.9.bn2.weight', 'backbone.blocks.4.9.bn2.bias', 'backbone.blocks.4.9.bn2.running_mean', 'backbone.blocks.4.9.bn2.running_var', 'backbone.blocks.4.9.bn2.num_batches_tracked', 'backbone.blocks.4.9.se.conv_reduce.weight', 'backbone.blocks.4.9.se.conv_reduce.bias', 'backbone.blocks.4.9.se.conv_expand.weight', 'backbone.blocks.4.9.se.conv_expand.bias', 'backbone.blocks.4.9.conv_pwl.weight', 'backbone.blocks.4.9.bn3.weight', 'backbone.blocks.4.9.bn3.bias', 'backbone.blocks.4.9.bn3.running_mean', 'backbone.blocks.4.9.bn3.running_var', 'backbone.blocks.4.9.bn3.num_batches_tracked', 'backbone.blocks.4.10.conv_pw.weight', 'backbone.blocks.4.10.bn1.weight', 'backbone.blocks.4.10.bn1.bias', 'backbone.blocks.4.10.bn1.running_mean', 'backbone.blocks.4.10.bn1.running_var', 'backbone.blocks.4.10.bn1.num_batches_tracked', 'backbone.blocks.4.10.conv_dw.weight', 'backbone.blocks.4.10.bn2.weight', 'backbone.blocks.4.10.bn2.bias', 'backbone.blocks.4.10.bn2.running_mean', 'backbone.blocks.4.10.bn2.running_var', 'backbone.blocks.4.10.bn2.num_batches_tracked', 'backbone.blocks.4.10.se.conv_reduce.weight', 'backbone.blocks.4.10.se.conv_reduce.bias', 'backbone.blocks.4.10.se.conv_expand.weight', 'backbone.blocks.4.10.se.conv_expand.bias', 'backbone.blocks.4.10.conv_pwl.weight', 'backbone.blocks.4.10.bn3.weight', 'backbone.blocks.4.10.bn3.bias', 'backbone.blocks.4.10.bn3.running_mean', 'backbone.blocks.4.10.bn3.running_var', 'backbone.blocks.4.10.bn3.num_batches_tracked', 'backbone.blocks.4.11.conv_pw.weight', 'backbone.blocks.4.11.bn1.weight', 'backbone.blocks.4.11.bn1.bias', 'backbone.blocks.4.11.bn1.running_mean', 'backbone.blocks.4.11.bn1.running_var', 'backbone.blocks.4.11.bn1.num_batches_tracked', 'backbone.blocks.4.11.conv_dw.weight', 'backbone.blocks.4.11.bn2.weight', 'backbone.blocks.4.11.bn2.bias', 'backbone.blocks.4.11.bn2.running_mean', 'backbone.blocks.4.11.bn2.running_var', 'backbone.blocks.4.11.bn2.num_batches_tracked', 'backbone.blocks.4.11.se.conv_reduce.weight', 'backbone.blocks.4.11.se.conv_reduce.bias', 'backbone.blocks.4.11.se.conv_expand.weight', 'backbone.blocks.4.11.se.conv_expand.bias', 'backbone.blocks.4.11.conv_pwl.weight', 'backbone.blocks.4.11.bn3.weight', 'backbone.blocks.4.11.bn3.bias', 'backbone.blocks.4.11.bn3.running_mean', 'backbone.blocks.4.11.bn3.running_var', 'backbone.blocks.4.11.bn3.num_batches_tracked', 'backbone.blocks.4.12.conv_pw.weight', 'backbone.blocks.4.12.bn1.weight', 'backbone.blocks.4.12.bn1.bias', 'backbone.blocks.4.12.bn1.running_mean', 'backbone.blocks.4.12.bn1.running_var', 'backbone.blocks.4.12.bn1.num_batches_tracked', 'backbone.blocks.4.12.conv_dw.weight', 'backbone.blocks.4.12.bn2.weight', 'backbone.blocks.4.12.bn2.bias', 'backbone.blocks.4.12.bn2.running_mean', 'backbone.blocks.4.12.bn2.running_var', 'backbone.blocks.4.12.bn2.num_batches_tracked', 'backbone.blocks.4.12.se.conv_reduce.weight', 'backbone.blocks.4.12.se.conv_reduce.bias', 'backbone.blocks.4.12.se.conv_expand.weight', 'backbone.blocks.4.12.se.conv_expand.bias', 'backbone.blocks.4.12.conv_pwl.weight', 'backbone.blocks.4.12.bn3.weight', 'backbone.blocks.4.12.bn3.bias', 'backbone.blocks.4.12.bn3.running_mean', 'backbone.blocks.4.12.bn3.running_var', 'backbone.blocks.4.12.bn3.num_batches_tracked', 'backbone.blocks.4.13.conv_pw.weight', 'backbone.blocks.4.13.bn1.weight', 'backbone.blocks.4.13.bn1.bias', 'backbone.blocks.4.13.bn1.running_mean', 'backbone.blocks.4.13.bn1.running_var', 'backbone.blocks.4.13.bn1.num_batches_tracked', 'backbone.blocks.4.13.conv_dw.weight', 'backbone.blocks.4.13.bn2.weight', 'backbone.blocks.4.13.bn2.bias', 'backbone.blocks.4.13.bn2.running_mean', 'backbone.blocks.4.13.bn2.running_var', 'backbone.blocks.4.13.bn2.num_batches_tracked', 'backbone.blocks.4.13.se.conv_reduce.weight', 'backbone.blocks.4.13.se.conv_reduce.bias', 'backbone.blocks.4.13.se.conv_expand.weight', 'backbone.blocks.4.13.se.conv_expand.bias', 'backbone.blocks.4.13.conv_pwl.weight', 'backbone.blocks.4.13.bn3.weight', 'backbone.blocks.4.13.bn3.bias', 'backbone.blocks.4.13.bn3.running_mean', 'backbone.blocks.4.13.bn3.running_var', 'backbone.blocks.4.13.bn3.num_batches_tracked', 'backbone.blocks.4.14.conv_pw.weight', 'backbone.blocks.4.14.bn1.weight', 'backbone.blocks.4.14.bn1.bias', 'backbone.blocks.4.14.bn1.running_mean', 'backbone.blocks.4.14.bn1.running_var', 'backbone.blocks.4.14.bn1.num_batches_tracked', 'backbone.blocks.4.14.conv_dw.weight', 'backbone.blocks.4.14.bn2.weight', 'backbone.blocks.4.14.bn2.bias', 'backbone.blocks.4.14.bn2.running_mean', 'backbone.blocks.4.14.bn2.running_var', 'backbone.blocks.4.14.bn2.num_batches_tracked', 'backbone.blocks.4.14.se.conv_reduce.weight', 'backbone.blocks.4.14.se.conv_reduce.bias', 'backbone.blocks.4.14.se.conv_expand.weight', 'backbone.blocks.4.14.se.conv_expand.bias', 'backbone.blocks.4.14.conv_pwl.weight', 'backbone.blocks.4.14.bn3.weight', 'backbone.blocks.4.14.bn3.bias', 'backbone.blocks.4.14.bn3.running_mean', 'backbone.blocks.4.14.bn3.running_var', 'backbone.blocks.4.14.bn3.num_batches_tracked', 'backbone.blocks.5.0.conv_pw.weight', 'backbone.blocks.5.0.bn1.weight', 'backbone.blocks.5.0.bn1.bias', 'backbone.blocks.5.0.bn1.running_mean', 'backbone.blocks.5.0.bn1.running_var', 'backbone.blocks.5.0.bn1.num_batches_tracked', 'backbone.blocks.5.0.conv_dw.weight', 'backbone.blocks.5.0.bn2.weight', 'backbone.blocks.5.0.bn2.bias', 'backbone.blocks.5.0.bn2.running_mean', 'backbone.blocks.5.0.bn2.running_var', 'backbone.blocks.5.0.bn2.num_batches_tracked', 'backbone.blocks.5.0.se.conv_reduce.weight', 'backbone.blocks.5.0.se.conv_reduce.bias', 'backbone.blocks.5.0.se.conv_expand.weight', 'backbone.blocks.5.0.se.conv_expand.bias', 'backbone.blocks.5.0.conv_pwl.weight', 'backbone.blocks.5.0.bn3.weight', 'backbone.blocks.5.0.bn3.bias', 'backbone.blocks.5.0.bn3.running_mean', 'backbone.blocks.5.0.bn3.running_var', 'backbone.blocks.5.0.bn3.num_batches_tracked', 'backbone.blocks.5.1.conv_pw.weight', 'backbone.blocks.5.1.bn1.weight', 'backbone.blocks.5.1.bn1.bias', 'backbone.blocks.5.1.bn1.running_mean', 'backbone.blocks.5.1.bn1.running_var', 'backbone.blocks.5.1.bn1.num_batches_tracked', 'backbone.blocks.5.1.conv_dw.weight', 'backbone.blocks.5.1.bn2.weight', 'backbone.blocks.5.1.bn2.bias', 'backbone.blocks.5.1.bn2.running_mean', 'backbone.blocks.5.1.bn2.running_var', 'backbone.blocks.5.1.bn2.num_batches_tracked', 'backbone.blocks.5.1.se.conv_reduce.weight', 'backbone.blocks.5.1.se.conv_reduce.bias', 'backbone.blocks.5.1.se.conv_expand.weight', 'backbone.blocks.5.1.se.conv_expand.bias', 'backbone.blocks.5.1.conv_pwl.weight', 'backbone.blocks.5.1.bn3.weight', 'backbone.blocks.5.1.bn3.bias', 'backbone.blocks.5.1.bn3.running_mean', 'backbone.blocks.5.1.bn3.running_var', 'backbone.blocks.5.1.bn3.num_batches_tracked', 'backbone.blocks.5.2.conv_pw.weight', 'backbone.blocks.5.2.bn1.weight', 'backbone.blocks.5.2.bn1.bias', 'backbone.blocks.5.2.bn1.running_mean', 'backbone.blocks.5.2.bn1.running_var', 'backbone.blocks.5.2.bn1.num_batches_tracked', 'backbone.blocks.5.2.conv_dw.weight', 'backbone.blocks.5.2.bn2.weight', 'backbone.blocks.5.2.bn2.bias', 'backbone.blocks.5.2.bn2.running_mean', 'backbone.blocks.5.2.bn2.running_var', 'backbone.blocks.5.2.bn2.num_batches_tracked', 'backbone.blocks.5.2.se.conv_reduce.weight', 'backbone.blocks.5.2.se.conv_reduce.bias', 'backbone.blocks.5.2.se.conv_expand.weight', 'backbone.blocks.5.2.se.conv_expand.bias', 'backbone.blocks.5.2.conv_pwl.weight', 'backbone.blocks.5.2.bn3.weight', 'backbone.blocks.5.2.bn3.bias', 'backbone.blocks.5.2.bn3.running_mean', 'backbone.blocks.5.2.bn3.running_var', 'backbone.blocks.5.2.bn3.num_batches_tracked', 'backbone.blocks.5.3.conv_pw.weight', 'backbone.blocks.5.3.bn1.weight', 'backbone.blocks.5.3.bn1.bias', 'backbone.blocks.5.3.bn1.running_mean', 'backbone.blocks.5.3.bn1.running_var', 'backbone.blocks.5.3.bn1.num_batches_tracked', 'backbone.blocks.5.3.conv_dw.weight', 'backbone.blocks.5.3.bn2.weight', 'backbone.blocks.5.3.bn2.bias', 'backbone.blocks.5.3.bn2.running_mean', 'backbone.blocks.5.3.bn2.running_var', 'backbone.blocks.5.3.bn2.num_batches_tracked', 'backbone.blocks.5.3.se.conv_reduce.weight', 'backbone.blocks.5.3.se.conv_reduce.bias', 'backbone.blocks.5.3.se.conv_expand.weight', 'backbone.blocks.5.3.se.conv_expand.bias', 'backbone.blocks.5.3.conv_pwl.weight', 'backbone.blocks.5.3.bn3.weight', 'backbone.blocks.5.3.bn3.bias', 'backbone.blocks.5.3.bn3.running_mean', 'backbone.blocks.5.3.bn3.running_var', 'backbone.blocks.5.3.bn3.num_batches_tracked', 'backbone.blocks.5.4.conv_pw.weight', 'backbone.blocks.5.4.bn1.weight', 'backbone.blocks.5.4.bn1.bias', 'backbone.blocks.5.4.bn1.running_mean', 'backbone.blocks.5.4.bn1.running_var', 'backbone.blocks.5.4.bn1.num_batches_tracked', 'backbone.blocks.5.4.conv_dw.weight', 'backbone.blocks.5.4.bn2.weight', 'backbone.blocks.5.4.bn2.bias', 'backbone.blocks.5.4.bn2.running_mean', 'backbone.blocks.5.4.bn2.running_var', 'backbone.blocks.5.4.bn2.num_batches_tracked', 'backbone.blocks.5.4.se.conv_reduce.weight', 'backbone.blocks.5.4.se.conv_reduce.bias', 'backbone.blocks.5.4.se.conv_expand.weight', 'backbone.blocks.5.4.se.conv_expand.bias', 'backbone.blocks.5.4.conv_pwl.weight', 'backbone.blocks.5.4.bn3.weight', 'backbone.blocks.5.4.bn3.bias', 'backbone.blocks.5.4.bn3.running_mean', 'backbone.blocks.5.4.bn3.running_var', 'backbone.blocks.5.4.bn3.num_batches_tracked', 'backbone.blocks.5.5.conv_pw.weight', 'backbone.blocks.5.5.bn1.weight', 'backbone.blocks.5.5.bn1.bias', 'backbone.blocks.5.5.bn1.running_mean', 'backbone.blocks.5.5.bn1.running_var', 'backbone.blocks.5.5.bn1.num_batches_tracked', 'backbone.blocks.5.5.conv_dw.weight', 'backbone.blocks.5.5.bn2.weight', 'backbone.blocks.5.5.bn2.bias', 'backbone.blocks.5.5.bn2.running_mean', 'backbone.blocks.5.5.bn2.running_var', 'backbone.blocks.5.5.bn2.num_batches_tracked', 'backbone.blocks.5.5.se.conv_reduce.weight', 'backbone.blocks.5.5.se.conv_reduce.bias', 'backbone.blocks.5.5.se.conv_expand.weight', 'backbone.blocks.5.5.se.conv_expand.bias', 'backbone.blocks.5.5.conv_pwl.weight', 'backbone.blocks.5.5.bn3.weight', 'backbone.blocks.5.5.bn3.bias', 'backbone.blocks.5.5.bn3.running_mean', 'backbone.blocks.5.5.bn3.running_var', 'backbone.blocks.5.5.bn3.num_batches_tracked', 'backbone.blocks.5.6.conv_pw.weight', 'backbone.blocks.5.6.bn1.weight', 'backbone.blocks.5.6.bn1.bias', 'backbone.blocks.5.6.bn1.running_mean', 'backbone.blocks.5.6.bn1.running_var', 'backbone.blocks.5.6.bn1.num_batches_tracked', 'backbone.blocks.5.6.conv_dw.weight', 'backbone.blocks.5.6.bn2.weight', 'backbone.blocks.5.6.bn2.bias', 'backbone.blocks.5.6.bn2.running_mean', 'backbone.blocks.5.6.bn2.running_var', 'backbone.blocks.5.6.bn2.num_batches_tracked', 'backbone.blocks.5.6.se.conv_reduce.weight', 'backbone.blocks.5.6.se.conv_reduce.bias', 'backbone.blocks.5.6.se.conv_expand.weight', 'backbone.blocks.5.6.se.conv_expand.bias', 'backbone.blocks.5.6.conv_pwl.weight', 'backbone.blocks.5.6.bn3.weight', 'backbone.blocks.5.6.bn3.bias', 'backbone.blocks.5.6.bn3.running_mean', 'backbone.blocks.5.6.bn3.running_var', 'backbone.blocks.5.6.bn3.num_batches_tracked', 'backbone.blocks.5.7.conv_pw.weight', 'backbone.blocks.5.7.bn1.weight', 'backbone.blocks.5.7.bn1.bias', 'backbone.blocks.5.7.bn1.running_mean', 'backbone.blocks.5.7.bn1.running_var', 'backbone.blocks.5.7.bn1.num_batches_tracked', 'backbone.blocks.5.7.conv_dw.weight', 'backbone.blocks.5.7.bn2.weight', 'backbone.blocks.5.7.bn2.bias', 'backbone.blocks.5.7.bn2.running_mean', 'backbone.blocks.5.7.bn2.running_var', 'backbone.blocks.5.7.bn2.num_batches_tracked', 'backbone.blocks.5.7.se.conv_reduce.weight', 'backbone.blocks.5.7.se.conv_reduce.bias', 'backbone.blocks.5.7.se.conv_expand.weight', 'backbone.blocks.5.7.se.conv_expand.bias', 'backbone.blocks.5.7.conv_pwl.weight', 'backbone.blocks.5.7.bn3.weight', 'backbone.blocks.5.7.bn3.bias', 'backbone.blocks.5.7.bn3.running_mean', 'backbone.blocks.5.7.bn3.running_var', 'backbone.blocks.5.7.bn3.num_batches_tracked', 'backbone.blocks.5.8.conv_pw.weight', 'backbone.blocks.5.8.bn1.weight', 'backbone.blocks.5.8.bn1.bias', 'backbone.blocks.5.8.bn1.running_mean', 'backbone.blocks.5.8.bn1.running_var', 'backbone.blocks.5.8.bn1.num_batches_tracked', 'backbone.blocks.5.8.conv_dw.weight', 'backbone.blocks.5.8.bn2.weight', 'backbone.blocks.5.8.bn2.bias', 'backbone.blocks.5.8.bn2.running_mean', 'backbone.blocks.5.8.bn2.running_var', 'backbone.blocks.5.8.bn2.num_batches_tracked', 'backbone.blocks.5.8.se.conv_reduce.weight', 'backbone.blocks.5.8.se.conv_reduce.bias', 'backbone.blocks.5.8.se.conv_expand.weight', 'backbone.blocks.5.8.se.conv_expand.bias', 'backbone.blocks.5.8.conv_pwl.weight', 'backbone.blocks.5.8.bn3.weight', 'backbone.blocks.5.8.bn3.bias', 'backbone.blocks.5.8.bn3.running_mean', 'backbone.blocks.5.8.bn3.running_var', 'backbone.blocks.5.8.bn3.num_batches_tracked', 'backbone.blocks.5.9.conv_pw.weight', 'backbone.blocks.5.9.bn1.weight', 'backbone.blocks.5.9.bn1.bias', 'backbone.blocks.5.9.bn1.running_mean', 'backbone.blocks.5.9.bn1.running_var', 'backbone.blocks.5.9.bn1.num_batches_tracked', 'backbone.blocks.5.9.conv_dw.weight', 'backbone.blocks.5.9.bn2.weight', 'backbone.blocks.5.9.bn2.bias', 'backbone.blocks.5.9.bn2.running_mean', 'backbone.blocks.5.9.bn2.running_var', 'backbone.blocks.5.9.bn2.num_batches_tracked', 'backbone.blocks.5.9.se.conv_reduce.weight', 'backbone.blocks.5.9.se.conv_reduce.bias', 'backbone.blocks.5.9.se.conv_expand.weight', 'backbone.blocks.5.9.se.conv_expand.bias', 'backbone.blocks.5.9.conv_pwl.weight', 'backbone.blocks.5.9.bn3.weight', 'backbone.blocks.5.9.bn3.bias', 'backbone.blocks.5.9.bn3.running_mean', 'backbone.blocks.5.9.bn3.running_var', 'backbone.blocks.5.9.bn3.num_batches_tracked', 'backbone.blocks.5.10.conv_pw.weight', 'backbone.blocks.5.10.bn1.weight', 'backbone.blocks.5.10.bn1.bias', 'backbone.blocks.5.10.bn1.running_mean', 'backbone.blocks.5.10.bn1.running_var', 'backbone.blocks.5.10.bn1.num_batches_tracked', 'backbone.blocks.5.10.conv_dw.weight', 'backbone.blocks.5.10.bn2.weight', 'backbone.blocks.5.10.bn2.bias', 'backbone.blocks.5.10.bn2.running_mean', 'backbone.blocks.5.10.bn2.running_var', 'backbone.blocks.5.10.bn2.num_batches_tracked', 'backbone.blocks.5.10.se.conv_reduce.weight', 'backbone.blocks.5.10.se.conv_reduce.bias', 'backbone.blocks.5.10.se.conv_expand.weight', 'backbone.blocks.5.10.se.conv_expand.bias', 'backbone.blocks.5.10.conv_pwl.weight', 'backbone.blocks.5.10.bn3.weight', 'backbone.blocks.5.10.bn3.bias', 'backbone.blocks.5.10.bn3.running_mean', 'backbone.blocks.5.10.bn3.running_var', 'backbone.blocks.5.10.bn3.num_batches_tracked', 'backbone.blocks.5.11.conv_pw.weight', 'backbone.blocks.5.11.bn1.weight', 'backbone.blocks.5.11.bn1.bias', 'backbone.blocks.5.11.bn1.running_mean', 'backbone.blocks.5.11.bn1.running_var', 'backbone.blocks.5.11.bn1.num_batches_tracked', 'backbone.blocks.5.11.conv_dw.weight', 'backbone.blocks.5.11.bn2.weight', 'backbone.blocks.5.11.bn2.bias', 'backbone.blocks.5.11.bn2.running_mean', 'backbone.blocks.5.11.bn2.running_var', 'backbone.blocks.5.11.bn2.num_batches_tracked', 'backbone.blocks.5.11.se.conv_reduce.weight', 'backbone.blocks.5.11.se.conv_reduce.bias', 'backbone.blocks.5.11.se.conv_expand.weight', 'backbone.blocks.5.11.se.conv_expand.bias', 'backbone.blocks.5.11.conv_pwl.weight', 'backbone.blocks.5.11.bn3.weight', 'backbone.blocks.5.11.bn3.bias', 'backbone.blocks.5.11.bn3.running_mean', 'backbone.blocks.5.11.bn3.running_var', 'backbone.blocks.5.11.bn3.num_batches_tracked', 'backbone.blocks.5.12.conv_pw.weight', 'backbone.blocks.5.12.bn1.weight', 'backbone.blocks.5.12.bn1.bias', 'backbone.blocks.5.12.bn1.running_mean', 'backbone.blocks.5.12.bn1.running_var', 'backbone.blocks.5.12.bn1.num_batches_tracked', 'backbone.blocks.5.12.conv_dw.weight', 'backbone.blocks.5.12.bn2.weight', 'backbone.blocks.5.12.bn2.bias', 'backbone.blocks.5.12.bn2.running_mean', 'backbone.blocks.5.12.bn2.running_var', 'backbone.blocks.5.12.bn2.num_batches_tracked', 'backbone.blocks.5.12.se.conv_reduce.weight', 'backbone.blocks.5.12.se.conv_reduce.bias', 'backbone.blocks.5.12.se.conv_expand.weight', 'backbone.blocks.5.12.se.conv_expand.bias', 'backbone.blocks.5.12.conv_pwl.weight', 'backbone.blocks.5.12.bn3.weight', 'backbone.blocks.5.12.bn3.bias', 'backbone.blocks.5.12.bn3.running_mean', 'backbone.blocks.5.12.bn3.running_var', 'backbone.blocks.5.12.bn3.num_batches_tracked', 'backbone.blocks.5.13.conv_pw.weight', 'backbone.blocks.5.13.bn1.weight', 'backbone.blocks.5.13.bn1.bias', 'backbone.blocks.5.13.bn1.running_mean', 'backbone.blocks.5.13.bn1.running_var', 'backbone.blocks.5.13.bn1.num_batches_tracked', 'backbone.blocks.5.13.conv_dw.weight', 'backbone.blocks.5.13.bn2.weight', 'backbone.blocks.5.13.bn2.bias', 'backbone.blocks.5.13.bn2.running_mean', 'backbone.blocks.5.13.bn2.running_var', 'backbone.blocks.5.13.bn2.num_batches_tracked', 'backbone.blocks.5.13.se.conv_reduce.weight', 'backbone.blocks.5.13.se.conv_reduce.bias', 'backbone.blocks.5.13.se.conv_expand.weight', 'backbone.blocks.5.13.se.conv_expand.bias', 'backbone.blocks.5.13.conv_pwl.weight', 'backbone.blocks.5.13.bn3.weight', 'backbone.blocks.5.13.bn3.bias', 'backbone.blocks.5.13.bn3.running_mean', 'backbone.blocks.5.13.bn3.running_var', 'backbone.blocks.5.13.bn3.num_batches_tracked', 'backbone.blocks.5.14.conv_pw.weight', 'backbone.blocks.5.14.bn1.weight', 'backbone.blocks.5.14.bn1.bias', 'backbone.blocks.5.14.bn1.running_mean', 'backbone.blocks.5.14.bn1.running_var', 'backbone.blocks.5.14.bn1.num_batches_tracked', 'backbone.blocks.5.14.conv_dw.weight', 'backbone.blocks.5.14.bn2.weight', 'backbone.blocks.5.14.bn2.bias', 'backbone.blocks.5.14.bn2.running_mean', 'backbone.blocks.5.14.bn2.running_var', 'backbone.blocks.5.14.bn2.num_batches_tracked', 'backbone.blocks.5.14.se.conv_reduce.weight', 'backbone.blocks.5.14.se.conv_reduce.bias', 'backbone.blocks.5.14.se.conv_expand.weight', 'backbone.blocks.5.14.se.conv_expand.bias', 'backbone.blocks.5.14.conv_pwl.weight', 'backbone.blocks.5.14.bn3.weight', 'backbone.blocks.5.14.bn3.bias', 'backbone.blocks.5.14.bn3.running_mean', 'backbone.blocks.5.14.bn3.running_var', 'backbone.blocks.5.14.bn3.num_batches_tracked', 'backbone.blocks.5.15.conv_pw.weight', 'backbone.blocks.5.15.bn1.weight', 'backbone.blocks.5.15.bn1.bias', 'backbone.blocks.5.15.bn1.running_mean', 'backbone.blocks.5.15.bn1.running_var', 'backbone.blocks.5.15.bn1.num_batches_tracked', 'backbone.blocks.5.15.conv_dw.weight', 'backbone.blocks.5.15.bn2.weight', 'backbone.blocks.5.15.bn2.bias', 'backbone.blocks.5.15.bn2.running_mean', 'backbone.blocks.5.15.bn2.running_var', 'backbone.blocks.5.15.bn2.num_batches_tracked', 'backbone.blocks.5.15.se.conv_reduce.weight', 'backbone.blocks.5.15.se.conv_reduce.bias', 'backbone.blocks.5.15.se.conv_expand.weight', 'backbone.blocks.5.15.se.conv_expand.bias', 'backbone.blocks.5.15.conv_pwl.weight', 'backbone.blocks.5.15.bn3.weight', 'backbone.blocks.5.15.bn3.bias', 'backbone.blocks.5.15.bn3.running_mean', 'backbone.blocks.5.15.bn3.running_var', 'backbone.blocks.5.15.bn3.num_batches_tracked', 'backbone.blocks.5.16.conv_pw.weight', 'backbone.blocks.5.16.bn1.weight', 'backbone.blocks.5.16.bn1.bias', 'backbone.blocks.5.16.bn1.running_mean', 'backbone.blocks.5.16.bn1.running_var', 'backbone.blocks.5.16.bn1.num_batches_tracked', 'backbone.blocks.5.16.conv_dw.weight', 'backbone.blocks.5.16.bn2.weight', 'backbone.blocks.5.16.bn2.bias', 'backbone.blocks.5.16.bn2.running_mean', 'backbone.blocks.5.16.bn2.running_var', 'backbone.blocks.5.16.bn2.num_batches_tracked', 'backbone.blocks.5.16.se.conv_reduce.weight', 'backbone.blocks.5.16.se.conv_reduce.bias', 'backbone.blocks.5.16.se.conv_expand.weight', 'backbone.blocks.5.16.se.conv_expand.bias', 'backbone.blocks.5.16.conv_pwl.weight', 'backbone.blocks.5.16.bn3.weight', 'backbone.blocks.5.16.bn3.bias', 'backbone.blocks.5.16.bn3.running_mean', 'backbone.blocks.5.16.bn3.running_var', 'backbone.blocks.5.16.bn3.num_batches_tracked', 'backbone.blocks.5.17.conv_pw.weight', 'backbone.blocks.5.17.bn1.weight', 'backbone.blocks.5.17.bn1.bias', 'backbone.blocks.5.17.bn1.running_mean', 'backbone.blocks.5.17.bn1.running_var', 'backbone.blocks.5.17.bn1.num_batches_tracked', 'backbone.blocks.5.17.conv_dw.weight', 'backbone.blocks.5.17.bn2.weight', 'backbone.blocks.5.17.bn2.bias', 'backbone.blocks.5.17.bn2.running_mean', 'backbone.blocks.5.17.bn2.running_var', 'backbone.blocks.5.17.bn2.num_batches_tracked', 'backbone.blocks.5.17.se.conv_reduce.weight', 'backbone.blocks.5.17.se.conv_reduce.bias', 'backbone.blocks.5.17.se.conv_expand.weight', 'backbone.blocks.5.17.se.conv_expand.bias', 'backbone.blocks.5.17.conv_pwl.weight', 'backbone.blocks.5.17.bn3.weight', 'backbone.blocks.5.17.bn3.bias', 'backbone.blocks.5.17.bn3.running_mean', 'backbone.blocks.5.17.bn3.running_var', 'backbone.blocks.5.17.bn3.num_batches_tracked', 'backbone.blocks.5.18.conv_pw.weight', 'backbone.blocks.5.18.bn1.weight', 'backbone.blocks.5.18.bn1.bias', 'backbone.blocks.5.18.bn1.running_mean', 'backbone.blocks.5.18.bn1.running_var', 'backbone.blocks.5.18.bn1.num_batches_tracked', 'backbone.blocks.5.18.conv_dw.weight', 'backbone.blocks.5.18.bn2.weight', 'backbone.blocks.5.18.bn2.bias', 'backbone.blocks.5.18.bn2.running_mean', 'backbone.blocks.5.18.bn2.running_var', 'backbone.blocks.5.18.bn2.num_batches_tracked', 'backbone.blocks.5.18.se.conv_reduce.weight', 'backbone.blocks.5.18.se.conv_reduce.bias', 'backbone.blocks.5.18.se.conv_expand.weight', 'backbone.blocks.5.18.se.conv_expand.bias', 'backbone.blocks.5.18.conv_pwl.weight', 'backbone.blocks.5.18.bn3.weight', 'backbone.blocks.5.18.bn3.bias', 'backbone.blocks.5.18.bn3.running_mean', 'backbone.blocks.5.18.bn3.running_var', 'backbone.blocks.5.18.bn3.num_batches_tracked', 'backbone.blocks.5.19.conv_pw.weight', 'backbone.blocks.5.19.bn1.weight', 'backbone.blocks.5.19.bn1.bias', 'backbone.blocks.5.19.bn1.running_mean', 'backbone.blocks.5.19.bn1.running_var', 'backbone.blocks.5.19.bn1.num_batches_tracked', 'backbone.blocks.5.19.conv_dw.weight', 'backbone.blocks.5.19.bn2.weight', 'backbone.blocks.5.19.bn2.bias', 'backbone.blocks.5.19.bn2.running_mean', 'backbone.blocks.5.19.bn2.running_var', 'backbone.blocks.5.19.bn2.num_batches_tracked', 'backbone.blocks.5.19.se.conv_reduce.weight', 'backbone.blocks.5.19.se.conv_reduce.bias', 'backbone.blocks.5.19.se.conv_expand.weight', 'backbone.blocks.5.19.se.conv_expand.bias', 'backbone.blocks.5.19.conv_pwl.weight', 'backbone.blocks.5.19.bn3.weight', 'backbone.blocks.5.19.bn3.bias', 'backbone.blocks.5.19.bn3.running_mean', 'backbone.blocks.5.19.bn3.running_var', 'backbone.blocks.5.19.bn3.num_batches_tracked', 'backbone.blocks.5.20.conv_pw.weight', 'backbone.blocks.5.20.bn1.weight', 'backbone.blocks.5.20.bn1.bias', 'backbone.blocks.5.20.bn1.running_mean', 'backbone.blocks.5.20.bn1.running_var', 'backbone.blocks.5.20.bn1.num_batches_tracked', 'backbone.blocks.5.20.conv_dw.weight', 'backbone.blocks.5.20.bn2.weight', 'backbone.blocks.5.20.bn2.bias', 'backbone.blocks.5.20.bn2.running_mean', 'backbone.blocks.5.20.bn2.running_var', 'backbone.blocks.5.20.bn2.num_batches_tracked', 'backbone.blocks.5.20.se.conv_reduce.weight', 'backbone.blocks.5.20.se.conv_reduce.bias', 'backbone.blocks.5.20.se.conv_expand.weight', 'backbone.blocks.5.20.se.conv_expand.bias', 'backbone.blocks.5.20.conv_pwl.weight', 'backbone.blocks.5.20.bn3.weight', 'backbone.blocks.5.20.bn3.bias', 'backbone.blocks.5.20.bn3.running_mean', 'backbone.blocks.5.20.bn3.running_var', 'backbone.blocks.5.20.bn3.num_batches_tracked', 'backbone.blocks.5.21.conv_pw.weight', 'backbone.blocks.5.21.bn1.weight', 'backbone.blocks.5.21.bn1.bias', 'backbone.blocks.5.21.bn1.running_mean', 'backbone.blocks.5.21.bn1.running_var', 'backbone.blocks.5.21.bn1.num_batches_tracked', 'backbone.blocks.5.21.conv_dw.weight', 'backbone.blocks.5.21.bn2.weight', 'backbone.blocks.5.21.bn2.bias', 'backbone.blocks.5.21.bn2.running_mean', 'backbone.blocks.5.21.bn2.running_var', 'backbone.blocks.5.21.bn2.num_batches_tracked', 'backbone.blocks.5.21.se.conv_reduce.weight', 'backbone.blocks.5.21.se.conv_reduce.bias', 'backbone.blocks.5.21.se.conv_expand.weight', 'backbone.blocks.5.21.se.conv_expand.bias', 'backbone.blocks.5.21.conv_pwl.weight', 'backbone.blocks.5.21.bn3.weight', 'backbone.blocks.5.21.bn3.bias', 'backbone.blocks.5.21.bn3.running_mean', 'backbone.blocks.5.21.bn3.running_var', 'backbone.blocks.5.21.bn3.num_batches_tracked', 'backbone.blocks.5.22.conv_pw.weight', 'backbone.blocks.5.22.bn1.weight', 'backbone.blocks.5.22.bn1.bias', 'backbone.blocks.5.22.bn1.running_mean', 'backbone.blocks.5.22.bn1.running_var', 'backbone.blocks.5.22.bn1.num_batches_tracked', 'backbone.blocks.5.22.conv_dw.weight', 'backbone.blocks.5.22.bn2.weight', 'backbone.blocks.5.22.bn2.bias', 'backbone.blocks.5.22.bn2.running_mean', 'backbone.blocks.5.22.bn2.running_var', 'backbone.blocks.5.22.bn2.num_batches_tracked', 'backbone.blocks.5.22.se.conv_reduce.weight', 'backbone.blocks.5.22.se.conv_reduce.bias', 'backbone.blocks.5.22.se.conv_expand.weight', 'backbone.blocks.5.22.se.conv_expand.bias', 'backbone.blocks.5.22.conv_pwl.weight', 'backbone.blocks.5.22.bn3.weight', 'backbone.blocks.5.22.bn3.bias', 'backbone.blocks.5.22.bn3.running_mean', 'backbone.blocks.5.22.bn3.running_var', 'backbone.blocks.5.22.bn3.num_batches_tracked', 'backbone.blocks.5.23.conv_pw.weight', 'backbone.blocks.5.23.bn1.weight', 'backbone.blocks.5.23.bn1.bias', 'backbone.blocks.5.23.bn1.running_mean', 'backbone.blocks.5.23.bn1.running_var', 'backbone.blocks.5.23.bn1.num_batches_tracked', 'backbone.blocks.5.23.conv_dw.weight', 'backbone.blocks.5.23.bn2.weight', 'backbone.blocks.5.23.bn2.bias', 'backbone.blocks.5.23.bn2.running_mean', 'backbone.blocks.5.23.bn2.running_var', 'backbone.blocks.5.23.bn2.num_batches_tracked', 'backbone.blocks.5.23.se.conv_reduce.weight', 'backbone.blocks.5.23.se.conv_reduce.bias', 'backbone.blocks.5.23.se.conv_expand.weight', 'backbone.blocks.5.23.se.conv_expand.bias', 'backbone.blocks.5.23.conv_pwl.weight', 'backbone.blocks.5.23.bn3.weight', 'backbone.blocks.5.23.bn3.bias', 'backbone.blocks.5.23.bn3.running_mean', 'backbone.blocks.5.23.bn3.running_var', 'backbone.blocks.5.23.bn3.num_batches_tracked', 'backbone.conv_head.weight', 'backbone.bn2.weight', 'backbone.bn2.bias', 'backbone.bn2.running_mean', 'backbone.bn2.running_var', 'backbone.bn2.num_batches_tracked', 'pooling.p', 'bn.weight', 'bn.bias', 'bn.running_mean', 'bn.running_var', 'bn.num_batches_tracked', 'final.kernel']\n",
      "WARNING: Overriding n_classes in config (11968) which is different from actual n_train_classes in the checkpoint -  (316).\n",
      "loaded checkpoint from /srv/transparency/wildbook_prototype/data/beluga-model-data/beluga-single-species.bin\n"
     ]
    },
    {
     "name": "stderr",
     "output_type": "stream",
     "text": [
      "100%|██████████| 849/849 [00:06<00:00, 127.54it/s]\n",
      "  0%|          | 0/849 [00:00<?, ?it/s]"
     ]
    },
    {
     "name": "stdout",
     "output_type": "stream",
     "text": [
      "** draw_batch started\n",
      "generating embeddings\n"
     ]
    },
    {
     "name": "stderr",
     "output_type": "stream",
     "text": [
      "\n",
      "\u001b[A/home/cabidi/XAI/wbia-plugin-miew-id/wbia_miew_id/datasets/default_dataset.py:46: UserWarning: To copy construct from a tensor, it is recommended to use sourceTensor.clone().detach() or sourceTensor.clone().detach().requires_grad_(True), rather than torch.tensor(sourceTensor).\n",
      "  return {\"image\": image, \"label\":torch.tensor(row['name']),\n",
      "100%|██████████| 2/2 [00:00<00:00, 21.58it/s]\n"
     ]
    },
    {
     "name": "stdout",
     "output_type": "stream",
     "text": [
      "*** embeddings generated ***\n",
      "generating similarity targets\n"
     ]
    },
    {
     "name": "stderr",
     "output_type": "stream",
     "text": [
      "\n",
      "1it [00:00, 4401.16it/s]\n"
     ]
    },
    {
     "name": "stdout",
     "output_type": "stream",
     "text": [
      "generating cams\n"
     ]
    },
    {
     "name": "stderr",
     "output_type": "stream",
     "text": [
      "\n",
      "\u001b[A\n",
      "100%|██████████| 1/1 [00:00<00:00,  5.64it/s]\n"
     ]
    },
    {
     "name": "stdout",
     "output_type": "stream",
     "text": [
      "generating image tile\n"
     ]
    },
    {
     "name": "stderr",
     "output_type": "stream",
     "text": [
      "\n",
      "100%|██████████| 1/1 [00:00<00:00, 39.96it/s]\n"
     ]
    },
    {
     "name": "stdout",
     "output_type": "stream",
     "text": [
      "** draw_batch started\n",
      "generating embeddings\n"
     ]
    },
    {
     "name": "stderr",
     "output_type": "stream",
     "text": [
      "\n",
      "100%|██████████| 2/2 [00:00<00:00, 22.23it/s]\n"
     ]
    },
    {
     "name": "stdout",
     "output_type": "stream",
     "text": [
      "*** embeddings generated ***\n",
      "generating similarity targets\n"
     ]
    },
    {
     "name": "stderr",
     "output_type": "stream",
     "text": [
      "\n",
      "1it [00:00, 5041.23it/s]\n"
     ]
    },
    {
     "name": "stdout",
     "output_type": "stream",
     "text": [
      "generating cams\n"
     ]
    },
    {
     "name": "stderr",
     "output_type": "stream",
     "text": [
      "\n",
      "100%|██████████| 1/1 [00:00<00:00, 10.35it/s]\n"
     ]
    },
    {
     "name": "stdout",
     "output_type": "stream",
     "text": [
      "generating image tile\n"
     ]
    },
    {
     "name": "stderr",
     "output_type": "stream",
     "text": [
      "\n",
      "100%|██████████| 1/1 [00:00<00:00, 67.39it/s]\n"
     ]
    },
    {
     "name": "stdout",
     "output_type": "stream",
     "text": [
      "1 1 1\n",
      "generating embeddings\n"
     ]
    },
    {
     "name": "stderr",
     "output_type": "stream",
     "text": [
      "\n",
      "\u001b[A/home/cabidi/XAI/wbia-plugin-miew-id/wbia_miew_id/datasets/default_dataset.py:46: UserWarning: To copy construct from a tensor, it is recommended to use sourceTensor.clone().detach() or sourceTensor.clone().detach().requires_grad_(True), rather than torch.tensor(sourceTensor).\n",
      "  return {\"image\": image, \"label\":torch.tensor(row['name']),\n",
      "100%|██████████| 2/2 [00:00<00:00, 33.13it/s]\n"
     ]
    },
    {
     "name": "stdout",
     "output_type": "stream",
     "text": [
      "generating embeddings\n"
     ]
    },
    {
     "name": "stderr",
     "output_type": "stream",
     "text": [
      "\n",
      "\u001b[A/home/cabidi/XAI/wbia-plugin-miew-id/wbia_miew_id/datasets/default_dataset.py:46: UserWarning: To copy construct from a tensor, it is recommended to use sourceTensor.clone().detach() or sourceTensor.clone().detach().requires_grad_(True), rather than torch.tensor(sourceTensor).\n",
      "  return {\"image\": image, \"label\":torch.tensor(row['name']),\n",
      "100%|██████████| 2/2 [00:00<00:00, 35.20it/s]\n"
     ]
    },
    {
     "name": "stdout",
     "output_type": "stream",
     "text": [
      "generating embeddings\n"
     ]
    },
    {
     "name": "stderr",
     "output_type": "stream",
     "text": [
      "\n",
      "\u001b[A/home/cabidi/XAI/wbia-plugin-miew-id/wbia_miew_id/datasets/default_dataset.py:46: UserWarning: To copy construct from a tensor, it is recommended to use sourceTensor.clone().detach() or sourceTensor.clone().detach().requires_grad_(True), rather than torch.tensor(sourceTensor).\n",
      "  return {\"image\": image, \"label\":torch.tensor(row['name']),\n",
      "100%|██████████| 2/2 [00:00<00:00, 33.73it/s]\n",
      "/home/cabidi/XAI/wbia-plugin-miew-id/benchmarking/BN_Inception.py:260: UserWarning: nn.init.kaiming_normal is now deprecated in favor of nn.init.kaiming_normal_.\n",
      "  nn.init.kaiming_normal(m.weight)\n",
      "/home/cabidi/XAI/wbia-plugin-miew-id/benchmarking/BN_Inception.py:262: UserWarning: nn.init.constant is now deprecated in favor of nn.init.constant_.\n",
      "  nn.init.constant(m.weight, 1)\n",
      "/home/cabidi/XAI/wbia-plugin-miew-id/benchmarking/BN_Inception.py:263: UserWarning: nn.init.constant is now deprecated in favor of nn.init.constant_.\n",
      "  nn.init.constant(m.bias, 0)\n",
      "/home/cabidi/XAI/wbia-plugin-miew-id/benchmarking/BN_Inception.py:265: UserWarning: nn.init.constant is now deprecated in favor of nn.init.constant_.\n",
      "  nn.init.constant(m.bias, 0)\n",
      "0it [00:01, ?it/s]\n",
      "  0%|          | 0/849 [00:01<?, ?it/s]\n"
     ]
    },
    {
     "name": "stdout",
     "output_type": "stream",
     "text": [
      "load model from Multi_similarity.pth.tar\n"
     ]
    },
    {
     "ename": "FileNotFoundError",
     "evalue": "[Errno 2] No such file or directory: 'Multi_similarity.pth.tar'",
     "output_type": "error",
     "traceback": [
      "\u001b[0;31m---------------------------------------------------------------------------\u001b[0m",
      "\u001b[0;31mFileNotFoundError\u001b[0m                         Traceback (most recent call last)",
      "Cell \u001b[0;32mIn[17], line 25\u001b[0m\n\u001b[1;32m     16\u001b[0m \u001b[38;5;66;03m### Generate visualizations\u001b[39;00m\n\u001b[1;32m     17\u001b[0m lightglue_results \u001b[38;5;241m=\u001b[39m pipeline(\n\u001b[1;32m     18\u001b[0m                         LightGlueVisualizer(),\n\u001b[1;32m     19\u001b[0m                         images,\n\u001b[0;32m   (...)\u001b[0m\n\u001b[1;32m     23\u001b[0m                         stop_after\u001b[38;5;241m=\u001b[39m\u001b[38;5;241m1\u001b[39m\n\u001b[1;32m     24\u001b[0m )\n\u001b[0;32m---> 25\u001b[0m gradcam_results \u001b[38;5;241m=\u001b[39m \u001b[43mpipeline\u001b[49m\u001b[43m(\u001b[49m\n\u001b[1;32m     26\u001b[0m \u001b[43m                        \u001b[49m\u001b[43mGradCamPlusPlusVisualizer\u001b[49m\u001b[43m(\u001b[49m\n\u001b[1;32m     27\u001b[0m \u001b[43m                            \u001b[49m\u001b[43mroot\u001b[49m\u001b[43m,\u001b[49m\n\u001b[1;32m     28\u001b[0m \u001b[43m                            \u001b[49m\u001b[43mvisualization_output_dir\u001b[49m\u001b[43m,\u001b[49m\n\u001b[1;32m     29\u001b[0m \u001b[43m                            \u001b[49m\u001b[43mdf_test\u001b[49m\u001b[43m,\u001b[49m\n\u001b[1;32m     30\u001b[0m \u001b[43m                            \u001b[49m\u001b[43mtest_dataset\u001b[49m\u001b[43m,\u001b[49m\n\u001b[1;32m     31\u001b[0m \u001b[43m                            \u001b[49m\u001b[43mmatch_mat\u001b[49m\n\u001b[1;32m     32\u001b[0m \u001b[43m                        \u001b[49m\u001b[43m)\u001b[49m\u001b[43m,\u001b[49m\n\u001b[1;32m     33\u001b[0m \u001b[43m                        \u001b[49m\u001b[43mimages\u001b[49m\u001b[43m,\u001b[49m\n\u001b[1;32m     34\u001b[0m \u001b[43m                        \u001b[49m\u001b[43mtopk_idx\u001b[49m\u001b[43m,\u001b[49m\n\u001b[1;32m     35\u001b[0m \u001b[43m                        \u001b[49m\u001b[43mmatch_mat\u001b[49m\u001b[43m,\u001b[49m\n\u001b[1;32m     36\u001b[0m \u001b[43m                        \u001b[49m\u001b[43mdist_mat\u001b[49m\u001b[43m,\u001b[49m\n\u001b[1;32m     37\u001b[0m \u001b[43m                        \u001b[49m\u001b[43mstop_after\u001b[49m\u001b[38;5;241;43m=\u001b[39;49m\u001b[38;5;241;43m1\u001b[39;49m\n\u001b[1;32m     38\u001b[0m \u001b[43m)\u001b[49m\n",
      "Cell \u001b[0;32mIn[16], line 35\u001b[0m, in \u001b[0;36mpipeline\u001b[0;34m(visualizer, images, topk_idx, match_mat, dist_mat, stop_after)\u001b[0m\n\u001b[1;32m     30\u001b[0m image_match \u001b[38;5;241m=\u001b[39m images[match_idx]\n\u001b[1;32m     32\u001b[0m \u001b[38;5;66;03m#print(f\"Vizualizing query {query_idx} and match {match_idx}\")\u001b[39;00m\n\u001b[1;32m     33\u001b[0m \n\u001b[1;32m     34\u001b[0m \u001b[38;5;66;03m# Generate results from the visualization method\u001b[39;00m\n\u001b[0;32m---> 35\u001b[0m result \u001b[38;5;241m=\u001b[39m \u001b[43mvisualizer\u001b[49m\u001b[38;5;241;43m.\u001b[39;49m\u001b[43mgenerate\u001b[49m\u001b[43m(\u001b[49m\n\u001b[1;32m     36\u001b[0m \u001b[43m    \u001b[49m\u001b[43mimage_query\u001b[49m\u001b[43m,\u001b[49m\n\u001b[1;32m     37\u001b[0m \u001b[43m    \u001b[49m\u001b[43mimage_match\u001b[49m\u001b[43m,\u001b[49m\n\u001b[1;32m     38\u001b[0m \u001b[43m    \u001b[49m\u001b[43mis_match\u001b[49m\u001b[38;5;241;43m=\u001b[39;49m\u001b[43mis_match\u001b[49m\u001b[43m,\u001b[49m\n\u001b[1;32m     39\u001b[0m \u001b[43m    \u001b[49m\u001b[43mtopk_indices\u001b[49m\u001b[38;5;241;43m=\u001b[39;49m\u001b[43mtopk_indices\u001b[49m\u001b[43m,\u001b[49m\n\u001b[1;32m     40\u001b[0m \u001b[43m    \u001b[49m\u001b[43mquery_idx\u001b[49m\u001b[38;5;241;43m=\u001b[39;49m\u001b[43mquery_idx\u001b[49m\u001b[43m,\u001b[49m\n\u001b[1;32m     41\u001b[0m \u001b[43m    \u001b[49m\u001b[43mmatch_idx\u001b[49m\u001b[38;5;241;43m=\u001b[39;49m\u001b[43mmatch_idx\u001b[49m\n\u001b[1;32m     42\u001b[0m \u001b[43m\u001b[49m\u001b[43m)\u001b[49m\n\u001b[1;32m     44\u001b[0m score \u001b[38;5;241m=\u001b[39m dist_mat[query_idx, match_idx]\n\u001b[1;32m     46\u001b[0m \u001b[38;5;66;03m# Store computed results\u001b[39;00m\n",
      "File \u001b[0;32m~/XAI/wbia-plugin-miew-id/benchmarking/GradCamPlusPlusVisualizer.py:312\u001b[0m, in \u001b[0;36mGradCamPlusPlusVisualizer.generate\u001b[0;34m(self, image_query, image_match, **kwargs)\u001b[0m\n\u001b[1;32m    309\u001b[0m (query_image_heatmap, match_image_heatmap) \u001b[38;5;241m=\u001b[39m \u001b[38;5;28mself\u001b[39m\u001b[38;5;241m.\u001b[39mheatmap(results_cam, kwargs[\u001b[38;5;124m'\u001b[39m\u001b[38;5;124mquery_idx\u001b[39m\u001b[38;5;124m'\u001b[39m], kwargs[\u001b[38;5;124m'\u001b[39m\u001b[38;5;124mmatch_idx\u001b[39m\u001b[38;5;124m'\u001b[39m])\n\u001b[1;32m    310\u001b[0m (query_image_heatmap_onimage, match_image_heatmap_onimage) \u001b[38;5;241m=\u001b[39m \u001b[38;5;28mself\u001b[39m\u001b[38;5;241m.\u001b[39mheatmap(results_cam_onimage, kwargs[\u001b[38;5;124m'\u001b[39m\u001b[38;5;124mquery_idx\u001b[39m\u001b[38;5;124m'\u001b[39m], kwargs[\u001b[38;5;124m'\u001b[39m\u001b[38;5;124mmatch_idx\u001b[39m\u001b[38;5;124m'\u001b[39m])\n\u001b[0;32m--> 312\u001b[0m (image_overlay_1, heatmap_point_1, image_overlay_2, heatmap_point_2) \u001b[38;5;241m=\u001b[39m \u001b[38;5;28;43mself\u001b[39;49m\u001b[38;5;241;43m.\u001b[39;49m\u001b[43mpoint_specific_map\u001b[49m\u001b[43m(\u001b[49m\u001b[38;5;28;43mself\u001b[39;49m\u001b[38;5;241;43m.\u001b[39;49m\u001b[43mpaths\u001b[49m\u001b[43m[\u001b[49m\u001b[43mkwargs\u001b[49m\u001b[43m[\u001b[49m\u001b[38;5;124;43m'\u001b[39;49m\u001b[38;5;124;43mquery_idx\u001b[39;49m\u001b[38;5;124;43m'\u001b[39;49m\u001b[43m]\u001b[49m\u001b[43m]\u001b[49m\u001b[43m,\u001b[49m\u001b[43m \u001b[49m\u001b[38;5;28;43mself\u001b[39;49m\u001b[38;5;241;43m.\u001b[39;49m\u001b[43mpaths\u001b[49m\u001b[43m[\u001b[49m\u001b[43mkwargs\u001b[49m\u001b[43m[\u001b[49m\u001b[38;5;124;43m'\u001b[39;49m\u001b[38;5;124;43mmatch_idx\u001b[39;49m\u001b[38;5;124;43m'\u001b[39;49m\u001b[43m]\u001b[49m\u001b[43m]\u001b[49m\u001b[43m)\u001b[49m\n\u001b[1;32m    314\u001b[0m \u001b[38;5;28;01mreturn\u001b[39;00m {\n\u001b[1;32m    315\u001b[0m     \u001b[38;5;124m\"\u001b[39m\u001b[38;5;124mfigure\u001b[39m\u001b[38;5;124m\"\u001b[39m: (vis_result_gradcam_plus_plus, vis_result_gradcam, image_overlay_1, image_overlay_2),\n\u001b[1;32m    316\u001b[0m     \u001b[38;5;124m\"\u001b[39m\u001b[38;5;124mquery_heatmaps\u001b[39m\u001b[38;5;124m\"\u001b[39m: (query_image_heatmap_plusplus, query_image_heatmap, heatmap_point_1, query_image_heatmap_onimage),\n\u001b[1;32m    317\u001b[0m     \u001b[38;5;124m\"\u001b[39m\u001b[38;5;124mmatch_heatmaps\u001b[39m\u001b[38;5;124m\"\u001b[39m: (match_image_heatmap_plusplus, match_image_heatmap, heatmap_point_2, match_image_heatmap_onimage)\n\u001b[1;32m    318\u001b[0m }\n",
      "File \u001b[0;32m~/XAI/wbia-plugin-miew-id/benchmarking/GradCamPlusPlusVisualizer.py:253\u001b[0m, in \u001b[0;36mGradCamPlusPlusVisualizer.point_specific_map\u001b[0;34m(self, path_1, path_2, size)\u001b[0m\n\u001b[1;32m    251\u001b[0m eg \u001b[38;5;241m=\u001b[39m Image_Retrieval\u001b[38;5;241m.\u001b[39mExplanation_generator()\n\u001b[1;32m    252\u001b[0m inputs_1, image_1, inputs_2, image_2 \u001b[38;5;241m=\u001b[39m eg\u001b[38;5;241m.\u001b[39mget_input_from_path(path_1, path_2)\n\u001b[0;32m--> 253\u001b[0m embed_1, map_1, ori_1, fc_1, embed_2, map_2, ori_2, fc_2 \u001b[38;5;241m=\u001b[39m \u001b[43meg\u001b[49m\u001b[38;5;241;43m.\u001b[39;49m\u001b[43mget_embed\u001b[49m\u001b[43m(\u001b[49m\u001b[43minputs_1\u001b[49m\u001b[38;5;241;43m=\u001b[39;49m\u001b[43minputs_1\u001b[49m\u001b[43m,\u001b[49m\u001b[43m \u001b[49m\u001b[43minputs_2\u001b[49m\u001b[38;5;241;43m=\u001b[39;49m\u001b[43minputs_2\u001b[49m\u001b[43m)\u001b[49m\n\u001b[1;32m    255\u001b[0m eg\u001b[38;5;241m.\u001b[39mDecomposition \u001b[38;5;241m=\u001b[39m eg\u001b[38;5;241m.\u001b[39mOverall_map(map_1 \u001b[38;5;241m=\u001b[39m map_1, map_2 \u001b[38;5;241m=\u001b[39m map_2, fc_1 \u001b[38;5;241m=\u001b[39m fc_1, fc_2 \u001b[38;5;241m=\u001b[39m fc_2, mode \u001b[38;5;241m=\u001b[39m \u001b[38;5;124m'\u001b[39m\u001b[38;5;124mGMP\u001b[39m\u001b[38;5;124m'\u001b[39m)\n\u001b[1;32m    257\u001b[0m \u001b[38;5;66;03m# query point, position in the feature matrix (not the x,y in image)\u001b[39;00m\n",
      "File \u001b[0;32m~/XAI/wbia-plugin-miew-id/benchmarking/Image_Retrieval.py:59\u001b[0m, in \u001b[0;36mExplanation_generator.get_embed\u001b[0;34m(self, inputs_1, inputs_2)\u001b[0m\n\u001b[1;32m     57\u001b[0m \u001b[38;5;66;03m# resume model\u001b[39;00m\n\u001b[1;32m     58\u001b[0m \u001b[38;5;28mprint\u001b[39m(\u001b[38;5;124m'\u001b[39m\u001b[38;5;124mload model from \u001b[39m\u001b[38;5;132;01m{}\u001b[39;00m\u001b[38;5;124m'\u001b[39m\u001b[38;5;241m.\u001b[39mformat(resume))\n\u001b[0;32m---> 59\u001b[0m chk_pt \u001b[38;5;241m=\u001b[39m \u001b[43mtorch\u001b[49m\u001b[38;5;241;43m.\u001b[39;49m\u001b[43mload\u001b[49m\u001b[43m(\u001b[49m\u001b[43mresume\u001b[49m\u001b[43m)\u001b[49m\n\u001b[1;32m     60\u001b[0m weight \u001b[38;5;241m=\u001b[39m chk_pt[\u001b[38;5;124m'\u001b[39m\u001b[38;5;124mstate_dict\u001b[39m\u001b[38;5;124m'\u001b[39m]\n\u001b[1;32m     61\u001b[0m start \u001b[38;5;241m=\u001b[39m chk_pt[\u001b[38;5;124m'\u001b[39m\u001b[38;5;124mepoch\u001b[39m\u001b[38;5;124m'\u001b[39m]\n",
      "File \u001b[0;32m~/miniconda3/envs/lightglue-env/lib/python3.10/site-packages/torch/serialization.py:791\u001b[0m, in \u001b[0;36mload\u001b[0;34m(f, map_location, pickle_module, weights_only, **pickle_load_args)\u001b[0m\n\u001b[1;32m    788\u001b[0m \u001b[38;5;28;01mif\u001b[39;00m \u001b[38;5;124m'\u001b[39m\u001b[38;5;124mencoding\u001b[39m\u001b[38;5;124m'\u001b[39m \u001b[38;5;129;01mnot\u001b[39;00m \u001b[38;5;129;01min\u001b[39;00m pickle_load_args\u001b[38;5;241m.\u001b[39mkeys():\n\u001b[1;32m    789\u001b[0m     pickle_load_args[\u001b[38;5;124m'\u001b[39m\u001b[38;5;124mencoding\u001b[39m\u001b[38;5;124m'\u001b[39m] \u001b[38;5;241m=\u001b[39m \u001b[38;5;124m'\u001b[39m\u001b[38;5;124mutf-8\u001b[39m\u001b[38;5;124m'\u001b[39m\n\u001b[0;32m--> 791\u001b[0m \u001b[38;5;28;01mwith\u001b[39;00m \u001b[43m_open_file_like\u001b[49m\u001b[43m(\u001b[49m\u001b[43mf\u001b[49m\u001b[43m,\u001b[49m\u001b[43m \u001b[49m\u001b[38;5;124;43m'\u001b[39;49m\u001b[38;5;124;43mrb\u001b[39;49m\u001b[38;5;124;43m'\u001b[39;49m\u001b[43m)\u001b[49m \u001b[38;5;28;01mas\u001b[39;00m opened_file:\n\u001b[1;32m    792\u001b[0m     \u001b[38;5;28;01mif\u001b[39;00m _is_zipfile(opened_file):\n\u001b[1;32m    793\u001b[0m         \u001b[38;5;66;03m# The zipfile reader is going to advance the current file position.\u001b[39;00m\n\u001b[1;32m    794\u001b[0m         \u001b[38;5;66;03m# If we want to actually tail call to torch.jit.load, we need to\u001b[39;00m\n\u001b[1;32m    795\u001b[0m         \u001b[38;5;66;03m# reset back to the original position.\u001b[39;00m\n\u001b[1;32m    796\u001b[0m         orig_position \u001b[38;5;241m=\u001b[39m opened_file\u001b[38;5;241m.\u001b[39mtell()\n",
      "File \u001b[0;32m~/miniconda3/envs/lightglue-env/lib/python3.10/site-packages/torch/serialization.py:271\u001b[0m, in \u001b[0;36m_open_file_like\u001b[0;34m(name_or_buffer, mode)\u001b[0m\n\u001b[1;32m    269\u001b[0m \u001b[38;5;28;01mdef\u001b[39;00m \u001b[38;5;21m_open_file_like\u001b[39m(name_or_buffer, mode):\n\u001b[1;32m    270\u001b[0m     \u001b[38;5;28;01mif\u001b[39;00m _is_path(name_or_buffer):\n\u001b[0;32m--> 271\u001b[0m         \u001b[38;5;28;01mreturn\u001b[39;00m \u001b[43m_open_file\u001b[49m\u001b[43m(\u001b[49m\u001b[43mname_or_buffer\u001b[49m\u001b[43m,\u001b[49m\u001b[43m \u001b[49m\u001b[43mmode\u001b[49m\u001b[43m)\u001b[49m\n\u001b[1;32m    272\u001b[0m     \u001b[38;5;28;01melse\u001b[39;00m:\n\u001b[1;32m    273\u001b[0m         \u001b[38;5;28;01mif\u001b[39;00m \u001b[38;5;124m'\u001b[39m\u001b[38;5;124mw\u001b[39m\u001b[38;5;124m'\u001b[39m \u001b[38;5;129;01min\u001b[39;00m mode:\n",
      "File \u001b[0;32m~/miniconda3/envs/lightglue-env/lib/python3.10/site-packages/torch/serialization.py:252\u001b[0m, in \u001b[0;36m_open_file.__init__\u001b[0;34m(self, name, mode)\u001b[0m\n\u001b[1;32m    251\u001b[0m \u001b[38;5;28;01mdef\u001b[39;00m \u001b[38;5;21m__init__\u001b[39m(\u001b[38;5;28mself\u001b[39m, name, mode):\n\u001b[0;32m--> 252\u001b[0m     \u001b[38;5;28msuper\u001b[39m()\u001b[38;5;241m.\u001b[39m\u001b[38;5;21m__init__\u001b[39m(\u001b[38;5;28;43mopen\u001b[39;49m\u001b[43m(\u001b[49m\u001b[43mname\u001b[49m\u001b[43m,\u001b[49m\u001b[43m \u001b[49m\u001b[43mmode\u001b[49m\u001b[43m)\u001b[49m)\n",
      "\u001b[0;31mFileNotFoundError\u001b[0m: [Errno 2] No such file or directory: 'Multi_similarity.pth.tar'"
     ]
    }
   ],
   "source": [
    "### Path setup\n",
    "config_path = \"wbia_miew_id/examples/beluga_example_miewid/benchmark_model/miew_id.msv2_all.yaml\"\n",
    "config = get_config(config_path)\n",
    "savepath=\"/srv/transparency/wildbook_prototype/data/matches/figures/\"\n",
    "os.makedirs(savepath, exist_ok=True)\n",
    "root = Path(\"wbia_miew_id/examples\")\n",
    "visualization_output_dir = Path(root, f\"{config.checkpoint_dir}/{config.project_name}/{config.exp_name}/visualizations\")\n",
    "os.makedirs(visualization_output_dir, exist_ok=True)\n",
    "\n",
    "### Load precomputed matches generated by MiewID\n",
    "df_test, test_dataset, match_results, q_pids, topk_idx, topk_names, match_mat, dist_mat, images = load_miewid_data(visualization_output_dir)\n",
    "\n",
    "### Set up dataframe to store computed results\n",
    "df_all = pd.DataFrame(columns=[])\n",
    "\n",
    "### Generate visualizations\n",
    "lightglue_results = pipeline(\n",
    "                        LightGlueVisualizer(),\n",
    "                        images,\n",
    "                        topk_idx,\n",
    "                        match_mat,\n",
    "                        dist_mat,\n",
    "                        stop_after=1\n",
    ")\n",
    "gradcam_results = pipeline(\n",
    "                        GradCamPlusPlusVisualizer(\n",
    "                            root,\n",
    "                            visualization_output_dir,\n",
    "                            df_test,\n",
    "                            test_dataset,\n",
    "                            match_mat\n",
    "                        ),\n",
    "                        images,\n",
    "                        topk_idx,\n",
    "                        match_mat,\n",
    "                        dist_mat,\n",
    "                        stop_after=1\n",
    ")"
   ]
  }
 ],
 "metadata": {
  "kernelspec": {
   "display_name": "lightglue-env",
   "language": "python",
   "name": "python3"
  },
  "language_info": {
   "codemirror_mode": {
    "name": "ipython",
    "version": 3
   },
   "file_extension": ".py",
   "mimetype": "text/x-python",
   "name": "python",
   "nbconvert_exporter": "python",
   "pygments_lexer": "ipython3",
   "version": "3.10.14"
  }
 },
 "nbformat": 4,
 "nbformat_minor": 2
}
